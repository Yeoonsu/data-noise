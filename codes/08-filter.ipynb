{
 "cells": [
  {
   "cell_type": "code",
   "execution_count": null,
   "metadata": {},
   "outputs": [],
   "source": [
    "import pandas as pd\n",
    "import numpy as np\n",
    "import matplotlib.pyplot as plt\n",
    "import seaborn as sns\n",
    "import os"
   ]
  },
  {
   "cell_type": "code",
   "execution_count": null,
   "metadata": {},
   "outputs": [],
   "source": [
    "# 원본 데이터 경로\n",
    "original_data_path = 'C:/Users/yeon1/data-noise-research2/output'\n",
    "\n",
    "# 필터링된 데이터 파일들이 있는 경로\n",
    "# target_ratio는 anomaly ratio를 뜻함\n",
    "target_ratio = 'target_ratio_10' # change (1) \n",
    "filtered_data_dir = 'C:/Users/yeon1/Leverage_Eventlog/Leverage_Ko/filtered/' + f'{target_ratio}'\n",
    "\n",
    "# 출력 디렉토리 설정\n",
    "output_dir = 'C:/Users/yeon1/data-noise-research2/washed/' + f'{target_ratio}'\n",
    "if not os.path.exists(output_dir):\n",
    "    os.makedirs(output_dir)\n",
    "\n",
    "# 필터링된 데이터를 저장할 세트 초기화\n",
    "cases_to_remove_leverage2 = set()\n",
    "\n",
    "# 필터링된 데이터 파일들을 순회하며 세트에 추가\n",
    "filtered_filenames = sorted(os.listdir(filtered_data_dir))\n",
    "for filtered_filename in os.listdir(filtered_data_dir):\n",
    "    if filtered_filename.endswith('.csv'):\n",
    "        filtered_file_path = os.path.join(filtered_data_dir, filtered_filename)\n",
    "        filtered_data = pd.read_csv(filtered_file_path)\n",
    "        cases_to_remove_leverage2.update(filtered_data['caseid'])\n",
    "\n",
    "# 원본 데이터 파일들을 순회하며 필터링된 데이터를 적용\n",
    "original_filenames = sorted(os.listdir(original_data_path))\n",
    "for filename in os.listdir(original_data_path):\n",
    "    if filename.endswith('.csv'):\n",
    "        file_path = os.path.join(original_data_path, filename)\n",
    "        \n",
    "        # 원본 데이터 읽기\n",
    "        original_data = pd.read_csv(file_path)\n",
    "        \n",
    "        # 필터링된 데이터를 원본 데이터에 적용\n",
    "        filtered_original_data_leverage2 = original_data[original_data['Case'].isin(cases_to_remove_leverage2)]\n",
    "        \n",
    "        # 출력 파일 경로 설정\n",
    "        output_file_path = os.path.join(output_dir, f'washed_{filename}')\n",
    "        \n",
    "        # 필터링된 데이터 저장\n",
    "        filtered_original_data_leverage2.to_csv(output_file_path, index=False)\n",
    "\n",
    "        print(f'{output_file_path}', \"Data filtering and saving completed.\")\n"
   ]
  }
 ],
 "metadata": {
  "language_info": {
   "name": "python"
  }
 },
 "nbformat": 4,
 "nbformat_minor": 2
}
