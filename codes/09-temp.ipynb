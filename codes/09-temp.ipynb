{
 "cells": [
  {
   "cell_type": "code",
   "execution_count": null,
   "metadata": {},
   "outputs": [],
   "source": [
    "# temp 1~30까지 생성\n",
    "\n",
    "file_list = os.listdir(washed_path + '/target_ratio_10') # change ratio\n",
    "csv_list = [s for s in file_list if '.csv' in s]  # change '.csv'\n",
    "print(csv_list) # 먼저 확인하기\n",
    "len(csv_list)\n",
    "\n",
    "# noisy data set에 prefix length를 적용하는 코드, temp가 완성된다.\n",
    "for prefix_length in range(1, 31):\n",
    "    for event_log in csv_list:\n",
    "        df = pd.read_csv(washed_path + '/target_ratio_10' + '\\\\' + event_log) # output path\n",
    "        prefix_df = df.groupby('Case').head(prefix_length)  # prefix\n",
    "        prefix_df.to_csv(washed_temp + f'\\\\prefix{prefix_length}_target_ratio_10_{event_log}', index=False)"
   ]
  },
  {
   "cell_type": "code",
   "execution_count": null,
   "metadata": {},
   "outputs": [],
   "source": [
    "# temp 1~30까지 생성\n",
    "\n",
    "file_list = os.listdir(washed_path + '/target_ratio_20') # change ratio\n",
    "csv_list = [s for s in file_list if '.csv' in s]  # change '.csv'\n",
    "print(csv_list) # 먼저 확인하기\n",
    "len(csv_list)\n",
    "\n",
    "# noisy data set에 prefix length를 적용하는 코드, temp가 완성된다.\n",
    "for prefix_length in range(1, 31):\n",
    "    for event_log in csv_list:\n",
    "        df = pd.read_csv(washed_path + '/target_ratio_20' + '\\\\' + event_log) # output path\n",
    "        prefix_df = df.groupby('Case').head(prefix_length)  # prefix\n",
    "        prefix_df.to_csv(washed_temp + f'\\\\prefix{prefix_length}_target_ratio_20_{event_log}', index=False)"
   ]
  },
  {
   "cell_type": "code",
   "execution_count": null,
   "metadata": {},
   "outputs": [],
   "source": [
    "# temp 1~30까지 생성\n",
    "\n",
    "file_list = os.listdir(washed_path + '/target_ratio_30') # change ratio\n",
    "csv_list = [s for s in file_list if '.csv' in s]  # change '.csv'\n",
    "print(csv_list) # 먼저 확인하기\n",
    "len(csv_list)\n",
    "\n",
    "# noisy data set에 prefix length를 적용하는 코드, temp가 완성된다.\n",
    "for prefix_length in range(1, 31):\n",
    "    for event_log in csv_list:\n",
    "        df = pd.read_csv(washed_path + '/target_ratio_30' + '\\\\' + event_log) # output path\n",
    "        prefix_df = df.groupby('Case').head(prefix_length)  # prefix\n",
    "        prefix_df.to_csv(washed_temp + f'\\\\prefix{prefix_length}_target_ratio_30_{event_log}', index=False)"
   ]
  },
  {
   "cell_type": "code",
   "execution_count": null,
   "metadata": {},
   "outputs": [],
   "source": [
    "# temp 1~30까지 생성\n",
    "\n",
    "file_list = os.listdir(washed_path + '/target_ratio_40') # change ratio\n",
    "csv_list = [s for s in file_list if '.csv' in s]  # change '.csv'\n",
    "print(csv_list) # 먼저 확인하기\n",
    "len(csv_list)\n",
    "\n",
    "# noisy data set에 prefix length를 적용하는 코드, temp가 완성된다.\n",
    "for prefix_length in range(1, 31):\n",
    "    for event_log in csv_list:\n",
    "        df = pd.read_csv(washed_path + '/target_ratio_40' + '\\\\' + event_log) # output path\n",
    "        prefix_df = df.groupby('Case').head(prefix_length)  # prefix\n",
    "        prefix_df.to_csv(washed_temp + f'\\\\prefix{prefix_length}_target_ratio_40_{event_log}', index=False)"
   ]
  }
 ],
 "metadata": {
  "language_info": {
   "name": "python"
  }
 },
 "nbformat": 4,
 "nbformat_minor": 2
}
